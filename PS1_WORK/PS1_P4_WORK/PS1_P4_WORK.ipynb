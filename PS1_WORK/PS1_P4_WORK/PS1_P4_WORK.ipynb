{
 "cells": [
  {
   "cell_type": "markdown",
   "id": "919e7006",
   "metadata": {},
   "source": [
    "## Problem 4\n",
    "\n",
    "### Calculate the total binding energy of Pu-239 and Xe-135. \n",
    "\n",
    "Binding energy is the amount of energy needed to dismantle the nucleus into its individual nucleons or the energy released when the nucleons come together to form the nucleus. Binding energy is given by the following equations: \n",
    "\n",
    "\\begin{equation}\n",
    "BE = \\Delta{}c^2\n",
    "\\end{equation}\n",
    "\n",
    "Where $\\Delta{}$ is the mass defect: \n",
    "\\begin{equation}\n",
    "\\Delta{} = [ZM_p + NM_n - M_X]\n",
    "\\end{equation}\n",
    "\n",
    "From problem set 1, it was also noticed that mass defect can be calculated using the total mass of the atom (and not just the protons and neutrons as in equation one): \n",
    "\n",
    "\\begin{equation}\n",
    "\\Delta{} = [Z(M_{p} - M_{e}) + (A - Z)M_{n} - M_{atom}]\n",
    "\\end{equation}"
   ]
  },
  {
   "cell_type": "code",
   "execution_count": 31,
   "id": "c1950b7d",
   "metadata": {},
   "outputs": [
    {
     "name": "stdout",
     "output_type": "stream",
     "text": [
      "-3.008018701999987\n",
      "Binding Energy for Pu-239: -2752.964662711464 MeV\n",
      "4.737822070987477\n",
      "Binding Energy for Xe-135: 4413.281259124835 MeV\n"
     ]
    }
   ],
   "source": [
    "import periodictable\n",
    "import matplotlib.pyplot as plt\n",
    "\n",
    "# Constants #\n",
    "import periodictable\n",
    "\n",
    "SPEED_OF_LIGHT_MEV_U = 931.5\n",
    "ELECTRON_MASS_U = 0.000548597\n",
    "NEUTRON_MASS_U = 1.008665\n",
    "PROTON_MASS_U = 1.00727647\n",
    "\n",
    "def calculateMassDefect(element, isotope_mass): \n",
    "    \"\"\" For a given element from the periodic table library, calculate the mass defect using equation 2\n",
    "    :param element Element: An element from the periodictable library \n",
    "    :return mass_defect float: The mass defect of the given element ()\n",
    "    \"\"\"\n",
    "    if (isotope_mass is None):\n",
    "        mass = element.mass\n",
    "    else: \n",
    "        mass = isotope_mass\n",
    "    return (element.number*PROTON_MASS_U + (mass - element.number)*NEUTRON_MASS_U) - (mass - element.number*ELECTRON_MASS_U)\n",
    "\n",
    "def calculateBindingEnergy(mass_defect): \n",
    "    \"\"\"For a given mass defect, calculate the binding energy using equation 1. \n",
    "\n",
    "    :param mass_defect float: Mass defect (amu)\n",
    "    :return binding_energy float: Binding energy (MeV)\n",
    "    \"\"\"\n",
    "    return mass_defect*SPEED_OF_LIGHT_MEV_U\n",
    "\n",
    "# Pu-239\n",
    "print(calculateMassDefect(periodictable.Pu,  239))\n",
    "print(\"Binding Energy for Pu-239: {} MeV\".format(calculateBindingEnergy(calculateMassDefect(periodictable.Pu,  239.0521565))))\n",
    "\n",
    "# Xe-135\n",
    "print(calculateMassDefect(periodictable.Xe,  134.9072075))\n",
    "print(\"Binding Energy for Xe-135: {} MeV\".format(calculateBindingEnergy(calculateMassDefect(periodictable.Xe, 134.9072075))))\n"
   ]
  }
 ],
 "metadata": {
  "interpreter": {
   "hash": "aee8b7b246df8f9039afb4144a1f6fd8d2ca17a180786b69acc140d282b71a49"
  },
  "kernelspec": {
   "display_name": "Python 3.9.7 64-bit",
   "language": "python",
   "name": "python3"
  },
  "language_info": {
   "codemirror_mode": {
    "name": "ipython",
    "version": 3
   },
   "file_extension": ".py",
   "mimetype": "text/x-python",
   "name": "python",
   "nbconvert_exporter": "python",
   "pygments_lexer": "ipython3",
   "version": "3.9.7"
  }
 },
 "nbformat": 4,
 "nbformat_minor": 5
}
