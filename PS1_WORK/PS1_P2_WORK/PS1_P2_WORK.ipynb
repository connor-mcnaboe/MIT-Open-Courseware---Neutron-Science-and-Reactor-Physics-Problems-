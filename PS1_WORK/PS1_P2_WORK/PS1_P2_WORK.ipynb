{
 "cells": [
  {
   "cell_type": "markdown",
   "id": "335df04a",
   "metadata": {},
   "source": [
    "# Problem 2\n",
    "\n",
    "## Question 2: What are the advantages of a thorium fuel cycle?\n",
    "\n",
    "### Fuel Cycles\n",
    "\n",
    "In order to understand the advantages of a thorium fuel cycle, first it must be understood what a fuel cycle is. According to the World Nuclear Association, it is defined as \"The series of industrial processes which involve the production of electricity from Uranium in nuclear power reactors.\" To paraphrase, it is the lifespan of a unit of nuclear fuel from the time it is mined until it is disposed or recycled [1]. \n",
    "\n",
    "The fuel cycle is split in to two phases: The \"front end\" and the \"back end\". The front end phase consists of mining, milling, conversion, enrichment and fuel fabrication. The back end involves the time spent in the reactor, reprocessing, recycling and waste disposal. \n",
    "\n",
    "### Thorium Fuel Cycle\n",
    "\n",
    "In a Thorium powered reactor thorium-232 absorbs neutrons, transmutating into Th-23 and eventually decays into U-233 which is a fissile material. If the Th-232 is wrapping a core of U-233, it can use the escaping neutrons from the fission of the U-233 as a neutron source to make more U-233. But being able to breed its own fuel source is not unique to the thorium. \n",
    "\n",
    "Advantages: \n",
    "\n",
    "1. There is no plutonium produced from the fission of U-233 because it requires six more neutron captures than with U-238. \n",
    "2. Reactors using thorium & U-233 produce less radio toxic waste (radioactive fission products and transuranic actinides) [2] \n",
    "3. Radioactive waste has shorter period of danger to humans, 100's of years vs. hundreds of thousands of years for Uranium reactors [3]. \n",
    "4. Th-232 has a higher naturally occurring concentration than U-238 (7.2 ppm vs. 4 ppm) [4],[5]\n",
    "\n",
    "## Sources: \n",
    "\n",
    "[1] https://world-nuclear.org/information-library/nuclear-fuel-cycle/introduction/nuclear-fuel-cycle-overview.aspx\n",
    "\n",
    "[2] https://www.wecanfigurethisout.org/ENERGY/Lecture_notes/Next_Generation_Nuclear_Power_Supporting_materials/Liquid%20Fuel%20Nuclear%20Reactors%20-%20APS%20Forum%20on%20Physics%20&%20Society%20-%20Hargraves.pdf\n",
    "\n",
    "[3]https://web.archive.org/web/20100328211103/http://www.abc.net.au/news/newsitems/200604/s1616391.htm\n",
    "\n",
    "[4]https://www.sciencedirect.com/topics/earth-and-planetary-sciences/thorium#:~:text=Thorium%20averages%207.2%20parts%20per,times%20more%20abundant%20than%20uranium.\n",
    "\n",
    "[5]https://nature.berkeley.edu/classes/eps2/wisc/u.html#:~:text=The%20overall%20abundance%20of%20uranium,autunite%2C%20torbernite%20%2C%20and%20carnotite.\n"
   ]
  }
 ],
 "metadata": {
  "interpreter": {
   "hash": "aee8b7b246df8f9039afb4144a1f6fd8d2ca17a180786b69acc140d282b71a49"
  },
  "kernelspec": {
   "display_name": "Python 3.9.7 64-bit",
   "language": "python",
   "name": "python3"
  },
  "language_info": {
   "name": "python",
   "version": "3.9.7"
  }
 },
 "nbformat": 4,
 "nbformat_minor": 5
}
