{
 "cells": [
  {
   "cell_type": "markdown",
   "id": "57f2d747",
   "metadata": {},
   "source": [
    "## Problem 1: \n",
    "\n",
    "### Question 1: Why is the binding energy per nucleon relatively stable for heavy atoms?\n",
    "\n",
    "The binding energy per nucleon is given by the equation: \n",
    "\n",
    "\\begin{equation}\n",
    "    \\frac{\\Delta{c^2}}{Z+N}\n",
    "\\end{equation}\n",
    "\n",
    "Where c is the speed of light, Z is the number of protons and N is the number of neutrons in the atom. ∆ is the mass defect, or the difference in the mass of the protons and neutrons and the mass of the entire nucleus: \n",
    "\n",
    "\\begin{equation}\n",
    "    \\Delta{}= ZM_{p} + NM_{n} - M_{x} \n",
    "\\end{equation}\n",
    "\n",
    "In equation 2, $M_{x}$ is the mass of the atomic nucleus, not the mass of the entire atom, including electrons (or value given on the periodic table). To determine the mass defect from values listed on the periodic table, the following equation is required: \n",
    "\n",
    "\\begin{equation}\n",
    "    \\Delta{} = Z(M_{p} - M_{e}) + (A - Z)M_{n} - M_{atom}\n",
    "\\end{equation}\n",
    "\n",
    "Where: \n",
    "\n",
    "Δ=mass defect (amu)\n",
    "\n",
    "$M_p$=mass of a proton (1.007277 amu)\n",
    "\n",
    "$M_n$ =mass of a neutron (1.008665 amu)\n",
    "\n",
    "$M_e$ =mass of an electron (0.000548597 amu)\n",
    "\n",
    "$M_{atom}$=mass of nuclide  (amu)\n",
    "\n",
    "Z=atomic number (number of protons)\n",
    "\n",
    "A=mass number (number of nucleons)\n",
    "\n",
    "Looking at equation one, it can be seen that the mass defect is the significant driver in the binding energy of the atom. Equation 3 can be used to investigate the why mass defect (and therefore binding energy) is more stable for heavier atoms. "
   ]
  },
  {
   "cell_type": "code",
   "execution_count": 20,
   "id": "50baab8b",
   "metadata": {},
   "outputs": [
    {
     "data": {
      "image/png": "[encoded data removed]",
      "text/plain": [
       "<Figure size 432x288 with 1 Axes>"
      ]
     },
     "metadata": {
      "needs_background": "light"
     },
     "output_type": "display_data"
    }
   ],
   "source": [
    "# Analysis of mass defects for elements in the perodic table: \n",
    "\n",
    "import periodictable\n",
    "import matplotlib.pyplot as plt\n",
    "\n",
    "# Constants #\n",
    "proton_mass_amu = 1.007277\n",
    "neutron_mass_amu = 1.008665\n",
    "electron_mass_amu = 0.000548597\n",
    "\n",
    "def calculateMassDefect(element): \n",
    "    \"\"\" For a given element from the periodic table library, calculate the mass defect using equation 3\n",
    "    :param element Element: An element from the periodictable library \n",
    "    :return mass_defect float: The mass defect of the given element ()\n",
    "    \"\"\"\n",
    "    return element.number*(proton_mass_amu - electron_mass_amu) + (element.mass - element.number)*neutron_mass_amu - (element.mass + element.number*electron_mass_amu)\n",
    "\n",
    "\n",
    "# Calculate mass defect: \n",
    "mass_defect_array = []\n",
    "atomic_weight_array = []\n",
    "\n",
    "for el in periodictable.elements: \n",
    "    mass_defect_array.append(calculateMassDefect(el))\n",
    "    atomic_weight_array.append(el.mass)\n",
    "\n",
    "plt.plot(atomic_weight_array, mass_defect_array)\n",
    "plt.show()"
   ]
  },
  {
   "cell_type": "markdown",
   "id": "77564d98",
   "metadata": {},
   "source": [
    "### Results\n",
    "\n",
    "Looking at the table produced by the previous analysis, it is clear that the mass defect is not what causes the instability in lower atomic weights. This then turns our attention to the numerator of equation one. Looking at it again, it is somewhat more obvious why binding energy becomes stable at higher atomic weights: the function becomes dominated by the logarithmic nature of the increasing atomic weight. "
   ]
  },
  {
   "cell_type": "code",
   "execution_count": 21,
   "id": "00b868d7",
   "metadata": {},
   "outputs": [
    {
     "data": {
      "image/png": "[encoded data removed]",
      "text/plain": [
       "<Figure size 432x288 with 1 Axes>"
      ]
     },
     "metadata": {
      "needs_background": "light"
     },
     "output_type": "display_data"
    }
   ],
   "source": [
    "# Plot 1/mass\n",
    "one_over_mass_array = []\n",
    "atomic_weight_array = []\n",
    "\n",
    "for el in periodictable.elements: \n",
    "    one_over_mass_array.append(1/el.mass)\n",
    "    atomic_weight_array.append(el.mass)\n",
    "\n",
    "plt.plot(atomic_weight_array, one_over_mass_array)\n",
    "plt.show()"
   ]
  },
  {
   "cell_type": "markdown",
   "id": "61d05edb",
   "metadata": {},
   "source": [
    "In conclusion, the binding energy of heavier atoms is stable due to the increasing atomic mass logarithmically driving the "
   ]
  }
 ],
 "metadata": {
  "interpreter": {
   "hash": "aee8b7b246df8f9039afb4144a1f6fd8d2ca17a180786b69acc140d282b71a49"
  },
  "kernelspec": {
   "display_name": "Python 3.9.7 64-bit",
   "language": "python",
   "name": "python3"
  },
  "language_info": {
   "codemirror_mode": {
    "name": "ipython",
    "version": 3
   },
   "file_extension": ".py",
   "mimetype": "text/x-python",
   "name": "python",
   "nbconvert_exporter": "python",
   "pygments_lexer": "ipython3",
   "version": "3.9.7"
  }
 },
 "nbformat": 4,
 "nbformat_minor": 5
}
