{
 "cells": [
  {
   "cell_type": "markdown",
   "id": "16bd5972",
   "metadata": {},
   "source": [
    "# Problem 3\n",
    "\n",
    "### Calculate the Q values for the following reactions and determine whether or not the nuclear reactions are endothermic or exothermic. \n",
    "\n",
    "\\begin{equation}\n",
    "{}^9_{4}Be + {}^4_{2}\\alpha \\rightarrow {}^{12}_{6}C + {}^1_{0}n \n",
    "\\end{equation}\n",
    "\n",
    "\\begin{equation}\n",
    "{}^1_{0}n + {}^{235}_{92}U \\rightarrow {}^{140}_{54}Xe+{}^{94}_{38}Sr + 2{}^{1}_{0}n + \\gamma(6MeV) \n",
    "\\end{equation}\n",
    "\n",
    "\\begin{equation}\n",
    "2{}^4_2He \\rightarrow {}^6_3 + {}^2_1H \n",
    "\\end{equation}\n",
    "\n",
    "\\begin{equation}\n",
    "{}^{12}_6C+{}^2_1H \\rightarrow {}^{13}_6C + {}^1_1P\n",
    "\\end{equation}\n",
    "\n",
    "The following equation can be used to calculate the heat of reaction: \n",
    "\n",
    "\\begin{equation}\n",
    "Q = [(M_a + M_b) - (M_c + M_d)]c^2\n",
    "\\end{equation}\n",
    "\n",
    "Where $M_x$ is the atomic mass of the element and c is the speed of light. A reaction is exothermic if Q > 0 and endothermic if Q < 0. The following python code will compute whether the reactions are exothermic or endothermic.\n",
    "\n",
    "One exception to this process will be the second equation, which releases a gamma radiation as a product. Gamma radiation does not have mass and can be ignored as a product in the mass balance (${}^0_0\\gamma$\n",
    ")"
   ]
  },
  {
   "cell_type": "code",
   "execution_count": 10,
   "id": "e56649e2",
   "metadata": {},
   "outputs": [
    {
     "name": "stdout",
     "output_type": "stream",
     "text": [
      "Reaction 1 is endothermic, Q-value: -5.759464500000046 MeV\n",
      "Reaction 2 is exothermic, Q-value: 16866.898717500004 MeV\n",
      "Reaction 3 is exothermic, Q-value: 52.4099160000005 MeV\n",
      "Reaction 4 is endothermic, Q-value: -938.9533693050016 MeV\n"
     ]
    }
   ],
   "source": [
    "import periodictable\n",
    "\n",
    "SPEED_OF_LIGHT_MEV_U = 931.5\n",
    "ALPHA_PARTICLE_MASS_U = 4.001\n",
    "NEUTRON_MASS_U = 1.008665\n",
    "PROTON_MASS_U = 1.00727647\n",
    "\n",
    "def calculateQValue(reactant_masses, product_masses):\n",
    "    \"\"\"Calculates the Q value of a reaction for a given set of reactants and products\n",
    "    using equation 4. \n",
    "    :param reactant_masses list<float>: A list of masses for the reactants in the chemical reaction (amu)\n",
    "    :param product_masses list<float>: A list of masses for the product in the chemical reaction (amu)\n",
    "    :return q_value float: Energy generated in the reaction (MeV)\n",
    "    \"\"\"\n",
    "    reactant_mass = sum(reactant_masses)\n",
    "    product_mass = sum(product_masses)\n",
    "    return (reactant_mass - product_mass)*SPEED_OF_LIGHT_MEV_U\n",
    "\n",
    "def isExothermic(q_value, reaction_num):\n",
    "    \"\"\"Determines if a reaction is exothermic or endothermic by checking if it is positive or negative\n",
    "    :param q_value float: The energy produced by the reaction (MeV)\n",
    "    :param reaction_num int: The reaction number given in the problem set.\n",
    "    \"\"\"\n",
    "    if (q_value > 0): \n",
    "        print(\"Reaction {} is exothermic, Q-value: {} MeV\".format(reaction_num, q_value))\n",
    "    else:\n",
    "        print(\"Reaction {} is endothermic, Q-value: {} MeV\".format(reaction_num, q_value))\n",
    "\n",
    "# Reaction 1: \n",
    "reaction_one_reactants = [periodictable.Be.mass, ALPHA_PARTICLE_MASS_U]\n",
    "reaction_one_products = [periodictable.C.mass, NEUTRON_MASS_U]\n",
    "isExothermic(calculateQValue(reaction_one_reactants, reaction_one_products), 1)\n",
    "\n",
    "# Reaction 2: \n",
    "reaction_two_reactants = [NEUTRON_MASS_U, periodictable.U.mass]\n",
    "reaction_two_products = [periodictable.Xe.mass, periodictable.Sr.mass, 2*NEUTRON_MASS_U]\n",
    "isExothermic(calculateQValue(reaction_two_reactants, reaction_two_products), 2)\n",
    "\n",
    "# Reaction 3: \n",
    "reaction_three_reactants = [2*periodictable.He.mass]\n",
    "reaction_three_products = [periodictable.Li.mass, periodictable.H.mass]\n",
    "isExothermic(calculateQValue(reaction_three_reactants, reaction_three_products), 3)\n",
    "\n",
    "# Reaction 4: \n",
    "reaction_four_reactants = [periodictable.C.mass, periodictable.H.mass]\n",
    "reaction_four_products = [(periodictable.C.mass + NEUTRON_MASS_U), PROTON_MASS_U]\n",
    "isExothermic(calculateQValue(reaction_four_reactants, reaction_four_products), 4)\n"
   ]
  }
 ],
 "metadata": {
  "kernelspec": {
   "display_name": "Python 3 (ipykernel)",
   "language": "python",
   "name": "python3"
  },
  "language_info": {
   "codemirror_mode": {
    "name": "ipython",
    "version": 3
   },
   "file_extension": ".py",
   "mimetype": "text/x-python",
   "name": "python",
   "nbconvert_exporter": "python",
   "pygments_lexer": "ipython3",
   "version": "3.9.7"
  }
 },
 "nbformat": 4,
 "nbformat_minor": 5
}
